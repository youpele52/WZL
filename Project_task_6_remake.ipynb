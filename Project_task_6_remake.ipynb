{
 "cells": [
  {
   "cell_type": "markdown",
   "metadata": {},
   "source": [
    "The aim of this task is to determine whether the punch data can be used to predict the coil data and vice versa"
   ]
  },
  {
   "cell_type": "code",
   "execution_count": 1,
   "metadata": {},
   "outputs": [],
   "source": [
    "# Importing the libraries\n",
    "import numpy as np\n",
    "import matplotlib.pyplot as plt\n",
    "import pandas as pd\n",
    "from npfeintool import FeatEx\n",
    "from npfeintool import CON\n"
   ]
  },
  {
   "cell_type": "code",
   "execution_count": 2,
   "metadata": {},
   "outputs": [],
   "source": [
    "\n",
    "class RegressionEvaluation:\n",
    "    \n",
    "    def KNN_Regressor_Evaluation(X, y):\n",
    "    \n",
    "        '''\n",
    "        This is KNN regressor function performs KNN regression on the features X and labels y inputed. \n",
    "        And then output evaluation of the regression using evaluation metrics like mean_absolute_error, mean_squared_error, and r2_score.  \n",
    "        '''\n",
    "        \n",
    "    \n",
    "        # Splitting the dataset into the Training set and Test set\n",
    "        from sklearn.model_selection import train_test_split\n",
    "        X_train, X_test, y_train, y_test = train_test_split(X, y, test_size = 0.25, random_state = 0)\n",
    "        \n",
    "        # Feature Scaling\n",
    "        from sklearn.preprocessing import StandardScaler\n",
    "        sc = StandardScaler()\n",
    "        X_train = sc.fit_transform(X_train)\n",
    "        X_test = sc.transform(X_test)\n",
    "    \n",
    "        y_train = sc.fit_transform(y_train)\n",
    "        y_test = sc.transform(y_test)\n",
    "\n",
    "        # Fitting KNN regressor to the Training set\n",
    "        from sklearn.neighbors import KNeighborsRegressor\n",
    "        regressor = KNeighborsRegressor (n_neighbors=5, metric= 'minkowski', p=2, algorithm='auto' )\n",
    "        regressor.fit(X_train, y_train)\n",
    "        \n",
    "        # Predicting the Test set results\n",
    "        y_pred = regressor.predict(X_test)\n",
    "        \n",
    "        # Evaluating the regression model \n",
    "        from sklearn.metrics import mean_absolute_error\n",
    "        mae = mean_absolute_error(y_test, y_pred) # the best value is 0.0\n",
    "        \n",
    "        \n",
    "        from sklearn.metrics import mean_squared_error\n",
    "        mse = mean_squared_error(y_test, y_pred) # the best value is 0.0\n",
    "        \n",
    "          \n",
    "        from sklearn.metrics import r2_score\n",
    "        r2_score = r2_score(y_test, y_pred) # Best possible score is 1.0\n",
    "        \n",
    "        print('The mean absolute error for this prediction is: {a}.  \\nThe mean squared error for this prediction is: {b}.\\nThe root squared score for this prediction is: {c}'.format(a=mae, b=mse,c=r2_score))\n",
    "        \n",
    "        \n",
    "\n",
    "    def SVR_Regressor_Evaluation(X,y):\n",
    "    \n",
    "        '''\n",
    "        This is SVR regressor function performs SVR regression on the features X and labels y inputed. \n",
    "        And then output evaluation of the regression using evaluation metrics like mean_absolute_error, mean_squared_error, and r2_score.  \n",
    "        '''\n",
    "        \n",
    "    \n",
    "        # Splitting the dataset into the Training set and Test set\n",
    "        from sklearn.model_selection import train_test_split\n",
    "        X_train, X_test, y_train, y_test = train_test_split(X, y, test_size = 0.25, random_state = 0)\n",
    "        \n",
    "        # Feature Scaling\n",
    "        from sklearn.preprocessing import StandardScaler\n",
    "        sc = StandardScaler()\n",
    "        X_train = sc.fit_transform(X_train)\n",
    "        X_test = sc.transform(X_test)\n",
    "    \n",
    "        y_train = sc.fit_transform(y_train)\n",
    "        y_test = sc.transform(y_test)\n",
    "        \n",
    "        \n",
    "        # Fitting the SVR to the dataset\n",
    "        from sklearn.svm import SVR \n",
    "        regressor = SVR(kernel = 'rbf')\n",
    "        regressor.fit(X_train, y_train)\n",
    "        \n",
    "        # Predicting the Test set results\n",
    "        y_pred = regressor.predict(X_test)\n",
    "        \n",
    "        # Evaluating the regression model \n",
    "        from sklearn.metrics import mean_absolute_error\n",
    "        mae = mean_absolute_error(y_test, y_pred) # the best value is 0.0\n",
    "        \n",
    "        \n",
    "        from sklearn.metrics import mean_squared_error\n",
    "        mse = mean_squared_error(y_test, y_pred) # the best value is 0.0\n",
    "        \n",
    "          \n",
    "        from sklearn.metrics import r2_score\n",
    "        r2_score = r2_score(y_test, y_pred) # Best possible score is 1.0\n",
    "        \n",
    "        print('The mean absolute error for this prediction is: {a}.  \\nThe mean squared error for this prediction is: {b}.\\nThe root squared score for this prediction is: {c}'.format(a=mae, b=mse,c=r2_score))\n",
    "        \n",
    "\n"
   ]
  },
  {
   "cell_type": "markdown",
   "metadata": {},
   "source": [
    "# Case 1: Using the punch data to predict the coil data"
   ]
  },
  {
   "cell_type": "code",
   "execution_count": 3,
   "metadata": {},
   "outputs": [],
   "source": [
    "# importing the dico dataset\n",
    "dico = pd.read_json(\"dico_features.json\")\n",
    "\n",
    "X1_with_col_names = dico.drop(['way', 'index', 'segment'], axis=1)\n",
    "\n",
    "X2_with_col_names = X1_with_col_names.iloc[:, 0:100]\n",
    "\n",
    "X = X2_with_col_names.iloc[:,0:100].values\n",
    "X = pd.DataFrame(X).fillna(value = 0, ).values"
   ]
  },
  {
   "cell_type": "markdown",
   "metadata": {},
   "source": [
    "Label: entryCoiler_force_avg"
   ]
  },
  {
   "cell_type": "code",
   "execution_count": 4,
   "metadata": {},
   "outputs": [
    {
     "name": "stdout",
     "output_type": "stream",
     "text": [
      "The mean absolute error for this prediction is: 0.04778655421453969.  \n",
      "The mean squared error for this prediction is: 0.024945281930116414.\n",
      "The root squared score for this prediction is: 0.9728074157056137\n"
     ]
    },
    {
     "name": "stderr",
     "output_type": "stream",
     "text": [
      "/Users/youpele/anaconda3/lib/python3.7/site-packages/sklearn/utils/validation.py:724: DataConversionWarning: A column-vector y was passed when a 1d array was expected. Please change the shape of y to (n_samples, ), for example using ravel().\n",
      "  y = column_or_1d(y, warn=True)\n",
      "/Users/youpele/anaconda3/lib/python3.7/site-packages/sklearn/svm/base.py:193: FutureWarning: The default value of gamma will change from 'auto' to 'scale' in version 0.22 to account better for unscaled features. Set gamma explicitly to 'auto' or 'scale' to avoid this warning.\n",
      "  \"avoid this warning.\", FutureWarning)\n"
     ]
    },
    {
     "name": "stdout",
     "output_type": "stream",
     "text": [
      "The mean absolute error for this prediction is: 0.13783485423015557.  \n",
      "The mean squared error for this prediction is: 0.06482619831637078.\n",
      "The root squared score for this prediction is: 0.9293336564749626\n"
     ]
    }
   ],
   "source": [
    "\n",
    "y = dico.loc [:, 'entryCoiler_force_avg']\n",
    "y = pd.DataFrame(y).fillna(value = 0, ).values\n",
    "y = np.array (y)\n",
    "y = y.reshape(-1, 1)\n",
    "\n",
    "# Evaluation \n",
    "KNN = RegressionEvaluation.KNN_Regressor_Evaluation(X,y)\n",
    "SVR = RegressionEvaluation.SVR_Regressor_Evaluation(X,y)\n"
   ]
  },
  {
   "cell_type": "markdown",
   "metadata": {},
   "source": [
    "Label: exitCoiler_force_min"
   ]
  },
  {
   "cell_type": "code",
   "execution_count": 5,
   "metadata": {},
   "outputs": [
    {
     "name": "stdout",
     "output_type": "stream",
     "text": [
      "The mean absolute error for this prediction is: 0.047363799118438146.  \n",
      "The mean squared error for this prediction is: 0.018383016551502342.\n",
      "The root squared score for this prediction is: 0.9806949015605579\n"
     ]
    },
    {
     "name": "stderr",
     "output_type": "stream",
     "text": [
      "/Users/youpele/anaconda3/lib/python3.7/site-packages/sklearn/utils/validation.py:724: DataConversionWarning: A column-vector y was passed when a 1d array was expected. Please change the shape of y to (n_samples, ), for example using ravel().\n",
      "  y = column_or_1d(y, warn=True)\n",
      "/Users/youpele/anaconda3/lib/python3.7/site-packages/sklearn/svm/base.py:193: FutureWarning: The default value of gamma will change from 'auto' to 'scale' in version 0.22 to account better for unscaled features. Set gamma explicitly to 'auto' or 'scale' to avoid this warning.\n",
      "  \"avoid this warning.\", FutureWarning)\n"
     ]
    },
    {
     "name": "stdout",
     "output_type": "stream",
     "text": [
      "The mean absolute error for this prediction is: 0.13210697727235712.  \n",
      "The mean squared error for this prediction is: 0.05014939753013668.\n",
      "The root squared score for this prediction is: 0.9473351365764352\n"
     ]
    }
   ],
   "source": [
    "y = dico.loc [:, 'exitCoiler_force_min']\n",
    "y = pd.DataFrame(y).fillna(value = 0, ).values\n",
    "y = np.array (y)\n",
    "y = y.reshape(-1, 1)\n",
    "\n",
    "# Evaluation \n",
    "KNN = RegressionEvaluation.KNN_Regressor_Evaluation(X,y)\n",
    "SVR = RegressionEvaluation.SVR_Regressor_Evaluation(X,y)"
   ]
  },
  {
   "cell_type": "markdown",
   "metadata": {},
   "source": [
    "Label: thickness_ibf_avg"
   ]
  },
  {
   "cell_type": "code",
   "execution_count": 6,
   "metadata": {},
   "outputs": [
    {
     "name": "stdout",
     "output_type": "stream",
     "text": [
      "The mean absolute error for this prediction is: 0.01173638968346538.  \n",
      "The mean squared error for this prediction is: 0.013387308312087239.\n",
      "The root squared score for this prediction is: 0.9856837276512755\n"
     ]
    }
   ],
   "source": [
    "\n",
    "y = dico.loc [:, 'thickness_ibf_avg']\n",
    "y = pd.DataFrame(y).fillna(value = 0, ).values\n",
    "y = np.array (y)\n",
    "y = y.reshape(-1, 1)\n",
    "\n",
    "# Evaluation \n",
    "KNN = RegressionEvaluation.KNN_Regressor_Evaluation(X,y)\n"
   ]
  },
  {
   "cell_type": "code",
   "execution_count": 7,
   "metadata": {},
   "outputs": [
    {
     "name": "stderr",
     "output_type": "stream",
     "text": [
      "/Users/youpele/anaconda3/lib/python3.7/site-packages/sklearn/utils/validation.py:724: DataConversionWarning: A column-vector y was passed when a 1d array was expected. Please change the shape of y to (n_samples, ), for example using ravel().\n",
      "  y = column_or_1d(y, warn=True)\n",
      "/Users/youpele/anaconda3/lib/python3.7/site-packages/sklearn/svm/base.py:193: FutureWarning: The default value of gamma will change from 'auto' to 'scale' in version 0.22 to account better for unscaled features. Set gamma explicitly to 'auto' or 'scale' to avoid this warning.\n",
      "  \"avoid this warning.\", FutureWarning)\n"
     ]
    },
    {
     "name": "stdout",
     "output_type": "stream",
     "text": [
      "The mean absolute error for this prediction is: 0.09306433108230426.  \n",
      "The mean squared error for this prediction is: 0.03806944858365841.\n",
      "The root squared score for this prediction is: 0.9592888591654134\n"
     ]
    }
   ],
   "source": [
    "SVR = RegressionEvaluation.SVR_Regressor_Evaluation(X,y)\n"
   ]
  },
  {
   "cell_type": "markdown",
   "metadata": {},
   "source": [
    "Label: thickness_ibf_max"
   ]
  },
  {
   "cell_type": "code",
   "execution_count": 8,
   "metadata": {},
   "outputs": [
    {
     "name": "stdout",
     "output_type": "stream",
     "text": [
      "The mean absolute error for this prediction is: 0.012195318957642672.  \n",
      "The mean squared error for this prediction is: 0.01340149953689576.\n",
      "The root squared score for this prediction is: 0.9856679747385146\n"
     ]
    }
   ],
   "source": [
    "\n",
    "\n",
    "y = dico.loc [:, 'thickness_ibf_max']\n",
    "y = pd.DataFrame(y).fillna(value = 0, ).values\n",
    "y = np.array (y)\n",
    "y = y.reshape(-1, 1)\n",
    "\n",
    "# Evaluation \n",
    "KNN = RegressionEvaluation.KNN_Regressor_Evaluation(X,y)\n"
   ]
  },
  {
   "cell_type": "code",
   "execution_count": 9,
   "metadata": {},
   "outputs": [
    {
     "name": "stderr",
     "output_type": "stream",
     "text": [
      "/Users/youpele/anaconda3/lib/python3.7/site-packages/sklearn/utils/validation.py:724: DataConversionWarning: A column-vector y was passed when a 1d array was expected. Please change the shape of y to (n_samples, ), for example using ravel().\n",
      "  y = column_or_1d(y, warn=True)\n",
      "/Users/youpele/anaconda3/lib/python3.7/site-packages/sklearn/svm/base.py:193: FutureWarning: The default value of gamma will change from 'auto' to 'scale' in version 0.22 to account better for unscaled features. Set gamma explicitly to 'auto' or 'scale' to avoid this warning.\n",
      "  \"avoid this warning.\", FutureWarning)\n"
     ]
    },
    {
     "name": "stdout",
     "output_type": "stream",
     "text": [
      "The mean absolute error for this prediction is: 0.09322741791616877.  \n",
      "The mean squared error for this prediction is: 0.03809918707175283.\n",
      "The root squared score for this prediction is: 0.9592554168993467\n"
     ]
    }
   ],
   "source": [
    "SVR = RegressionEvaluation.SVR_Regressor_Evaluation(X,y)\n"
   ]
  },
  {
   "cell_type": "markdown",
   "metadata": {},
   "source": [
    "# Case 2: Using the coil data to predict the punch data"
   ]
  },
  {
   "cell_type": "code",
   "execution_count": 10,
   "metadata": {},
   "outputs": [],
   "source": [
    "\n",
    "# importing the dico dataset\n",
    "dico = pd.read_json(\"dico_features.json\")\n",
    "\n",
    "\n",
    "X1_with_col_names = dico.iloc[:, 103:116]\n",
    "\n",
    "X = X1_with_col_names.iloc[:,0:15].values\n",
    "X = pd.DataFrame(X).fillna(value = 0, ).values\n"
   ]
  },
  {
   "cell_type": "markdown",
   "metadata": {},
   "source": [
    "Label: max_Stempel_2"
   ]
  },
  {
   "cell_type": "code",
   "execution_count": 11,
   "metadata": {},
   "outputs": [
    {
     "name": "stdout",
     "output_type": "stream",
     "text": [
      "The mean absolute error for this prediction is: 0.5934458450420357.  \n",
      "The mean squared error for this prediction is: 0.6468758081413227.\n",
      "The root squared score for this prediction is: 0.27963419997717287\n"
     ]
    }
   ],
   "source": [
    "y = dico.loc [:, 'max_Stempel_2']\n",
    "y = pd.DataFrame(y).fillna(value = 0, ).values\n",
    "y = np.array (y)\n",
    "y = y.reshape(-1, 1)\n",
    "\n",
    "# Evaluation \n",
    "KNN = RegressionEvaluation.KNN_Regressor_Evaluation(X,y)\n"
   ]
  },
  {
   "cell_type": "code",
   "execution_count": 12,
   "metadata": {},
   "outputs": [
    {
     "name": "stderr",
     "output_type": "stream",
     "text": [
      "/Users/youpele/anaconda3/lib/python3.7/site-packages/sklearn/utils/validation.py:724: DataConversionWarning: A column-vector y was passed when a 1d array was expected. Please change the shape of y to (n_samples, ), for example using ravel().\n",
      "  y = column_or_1d(y, warn=True)\n"
     ]
    },
    {
     "name": "stdout",
     "output_type": "stream",
     "text": [
      "The mean absolute error for this prediction is: 0.499499862221531.  \n",
      "The mean squared error for this prediction is: 0.4885941766648474.\n",
      "The root squared score for this prediction is: 0.4558978237708754\n"
     ]
    }
   ],
   "source": [
    "SVR = RegressionEvaluation.SVR_Regressor_Evaluation(X,y)"
   ]
  },
  {
   "cell_type": "markdown",
   "metadata": {},
   "source": [
    "Label: median_Niederhalter_4"
   ]
  },
  {
   "cell_type": "code",
   "execution_count": 13,
   "metadata": {},
   "outputs": [
    {
     "name": "stdout",
     "output_type": "stream",
     "text": [
      "The mean absolute error for this prediction is: 0.7856752858474794.  \n",
      "The mean squared error for this prediction is: 0.9385395477117819.\n",
      "The root squared score for this prediction is: -0.06286573498886705\n"
     ]
    }
   ],
   "source": [
    "\n",
    "\n",
    "y = dico.loc [:, 'median_Niederhalter_4']\n",
    "y = pd.DataFrame(y).fillna(value = 0, ).values\n",
    "y = np.array (y)\n",
    "y = y.reshape(-1, 1)\n",
    "\n",
    "# Evaluation \n",
    "KNN = RegressionEvaluation.KNN_Regressor_Evaluation(X,y)\n"
   ]
  },
  {
   "cell_type": "code",
   "execution_count": 14,
   "metadata": {},
   "outputs": [
    {
     "name": "stderr",
     "output_type": "stream",
     "text": [
      "/Users/youpele/anaconda3/lib/python3.7/site-packages/sklearn/utils/validation.py:724: DataConversionWarning: A column-vector y was passed when a 1d array was expected. Please change the shape of y to (n_samples, ), for example using ravel().\n",
      "  y = column_or_1d(y, warn=True)\n"
     ]
    },
    {
     "name": "stdout",
     "output_type": "stream",
     "text": [
      "The mean absolute error for this prediction is: 0.7377718538765446.  \n",
      "The mean squared error for this prediction is: 0.8825347295699548.\n",
      "The root squared score for this prediction is: 0.0005579133191428998\n"
     ]
    }
   ],
   "source": [
    "\n",
    "SVR = RegressionEvaluation.SVR_Regressor_Evaluation(X,y)"
   ]
  },
  {
   "cell_type": "markdown",
   "metadata": {},
   "source": [
    "Label: min_Position_Ma"
   ]
  },
  {
   "cell_type": "code",
   "execution_count": 15,
   "metadata": {},
   "outputs": [
    {
     "name": "stdout",
     "output_type": "stream",
     "text": [
      "The mean absolute error for this prediction is: 0.16473100060439272.  \n",
      "The mean squared error for this prediction is: 0.977533618834945.\n",
      "The root squared score for this prediction is: -0.028407945091925235\n"
     ]
    }
   ],
   "source": [
    "\n",
    "\n",
    "y = dico.loc [:, 'min_Position_Ma']\n",
    "y = pd.DataFrame(y).fillna(value = 0, ).values\n",
    "y = np.array (y)\n",
    "y = y.reshape(-1, 1)\n",
    "\n",
    "# Evaluation \n",
    "KNN = RegressionEvaluation.KNN_Regressor_Evaluation(X,y)"
   ]
  },
  {
   "cell_type": "code",
   "execution_count": 16,
   "metadata": {},
   "outputs": [
    {
     "name": "stdout",
     "output_type": "stream",
     "text": [
      "The mean absolute error for this prediction is: 0.2578611014002888.  \n",
      "The mean squared error for this prediction is: 0.9543734016248149.\n",
      "The root squared score for this prediction is: -0.0040423878056810025\n"
     ]
    },
    {
     "name": "stderr",
     "output_type": "stream",
     "text": [
      "/Users/youpele/anaconda3/lib/python3.7/site-packages/sklearn/utils/validation.py:724: DataConversionWarning: A column-vector y was passed when a 1d array was expected. Please change the shape of y to (n_samples, ), for example using ravel().\n",
      "  y = column_or_1d(y, warn=True)\n"
     ]
    }
   ],
   "source": [
    "SVR = RegressionEvaluation.SVR_Regressor_Evaluation(X,y)\n"
   ]
  },
  {
   "cell_type": "markdown",
   "metadata": {},
   "source": [
    "Label: mean_Position_NH"
   ]
  },
  {
   "cell_type": "code",
   "execution_count": 17,
   "metadata": {},
   "outputs": [
    {
     "name": "stdout",
     "output_type": "stream",
     "text": [
      "The mean absolute error for this prediction is: 0.45598747070691.  \n",
      "The mean squared error for this prediction is: 1.0887678246394046.\n",
      "The root squared score for this prediction is: -0.11737600339498422\n"
     ]
    }
   ],
   "source": [
    "\n",
    "\n",
    "y = dico.loc [:, 'mean_Position_NH']\n",
    "y = pd.DataFrame(y).fillna(value = 0, ).values\n",
    "y = np.array (y)\n",
    "y = y.reshape(-1, 1)\n",
    "\n",
    "# Evaluation \n",
    "KNN = RegressionEvaluation.KNN_Regressor_Evaluation(X,y)"
   ]
  },
  {
   "cell_type": "code",
   "execution_count": 18,
   "metadata": {},
   "outputs": [
    {
     "name": "stderr",
     "output_type": "stream",
     "text": [
      "/Users/youpele/anaconda3/lib/python3.7/site-packages/sklearn/utils/validation.py:724: DataConversionWarning: A column-vector y was passed when a 1d array was expected. Please change the shape of y to (n_samples, ), for example using ravel().\n",
      "  y = column_or_1d(y, warn=True)\n"
     ]
    },
    {
     "name": "stdout",
     "output_type": "stream",
     "text": [
      "The mean absolute error for this prediction is: 0.4156566448186025.  \n",
      "The mean squared error for this prediction is: 1.1023292068139308.\n",
      "The root squared score for this prediction is: -0.13129372090257374\n"
     ]
    }
   ],
   "source": [
    "SVR = RegressionEvaluation.SVR_Regressor_Evaluation(X,y)"
   ]
  },
  {
   "cell_type": "code",
   "execution_count": null,
   "metadata": {},
   "outputs": [],
   "source": []
  }
 ],
 "metadata": {
  "kernelspec": {
   "display_name": "Python 3",
   "language": "python",
   "name": "python3"
  },
  "language_info": {
   "codemirror_mode": {
    "name": "ipython",
    "version": 3
   },
   "file_extension": ".py",
   "mimetype": "text/x-python",
   "name": "python",
   "nbconvert_exporter": "python",
   "pygments_lexer": "ipython3",
   "version": "3.7.3"
  }
 },
 "nbformat": 4,
 "nbformat_minor": 2
}
